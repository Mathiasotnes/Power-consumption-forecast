{
 "cells": [
  {
   "cell_type": "code",
   "execution_count": null,
   "metadata": {},
   "outputs": [],
   "source": [
    "import pandas as pd\n",
    "import matplotlib.pyplot as plt\n",
    "import seaborn as sns"
   ]
  },
  {
   "cell_type": "code",
   "execution_count": null,
   "metadata": {},
   "outputs": [],
   "source": [
    "# Import the data\n",
    "df = pd.read_csv('./processed_train.csv')"
   ]
  },
  {
   "cell_type": "code",
   "execution_count": null,
   "metadata": {},
   "outputs": [],
   "source": [
    "df.describe().transpose()"
   ]
  },
  {
   "cell_type": "code",
   "execution_count": null,
   "metadata": {},
   "outputs": [],
   "source": [
    "# Plot individual feature\n",
    "feature = 'sin_time_of_year'\n",
    "\n",
    "plt.figure(figsize=(15, 5))\n",
    "df[feature].plot()\n",
    "plt.title(feature + ' over time')\n",
    "plt.xlabel('Time')\n",
    "plt.ylabel(feature)\n",
    "plt.show()"
   ]
  },
  {
   "cell_type": "code",
   "execution_count": null,
   "metadata": {},
   "outputs": [],
   "source": [
    "# Pairplots\n",
    "features = ['NO1_consumption', 'NO1_temperature', 'sin_time_of_day', 'sin_time_of_week', 'sin_time_of_year']\n",
    "sns.pairplot(df[features])\n",
    "plt.suptitle('Pairplot', y=1.02)\n",
    "plt.show()\n"
   ]
  },
  {
   "cell_type": "code",
   "execution_count": null,
   "metadata": {},
   "outputs": [],
   "source": [
    "# Correlation matrix\n",
    "features = ['NO1_consumption', 'NO1_temperature', 'time_of_day', 'time_of_week', 'time_of_year', 'NO1_consumption_lag_24', 'NO1_temperature_lag_24']\n",
    "plt.figure(figsize=(10, 8))\n",
    "sns.heatmap(df[features].corr(), annot=True, fmt=\".2f\", cmap='coolwarm')\n",
    "plt.title('Correlation matrix')\n",
    "plt.show()"
   ]
  }
 ],
 "metadata": {
  "kernelspec": {
   "display_name": "Python 3",
   "language": "python",
   "name": "python3"
  },
  "language_info": {
   "codemirror_mode": {
    "name": "ipython",
    "version": 3
   },
   "file_extension": ".py",
   "mimetype": "text/x-python",
   "name": "python",
   "nbconvert_exporter": "python",
   "pygments_lexer": "ipython3",
   "version": "3.11.5"
  }
 },
 "nbformat": 4,
 "nbformat_minor": 2
}
